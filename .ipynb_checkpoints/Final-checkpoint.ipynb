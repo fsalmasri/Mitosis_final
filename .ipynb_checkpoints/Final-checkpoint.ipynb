{
 "cells": [
  {
   "cell_type": "code",
   "execution_count": 1,
   "id": "12583497-c220-46ab-bc6a-b87cf465b4f1",
   "metadata": {},
   "outputs": [],
   "source": [
    "from Unet2 import Unet2\n",
    "from visualizer_slider import visualizer_slider\n",
    "from segmentation_utils import *\n",
    "\n",
    "import os\n",
    "\n",
    "import matplotlib.pyplot as plt\n",
    "# from util.visualizer import save_images\n",
    "# from util import html\n",
    "import torch\n",
    "import numpy as np\n",
    "from PIL import Image\n",
    "from os.path import join\n",
    "# from util.util import list_items\n",
    "\n"
   ]
  },
  {
   "cell_type": "code",
   "execution_count": 2,
   "id": "85281a41-7ef2-4606-bd03-c0b9882c0cc7",
   "metadata": {},
   "outputs": [
    {
     "data": {
      "text/plain": [
       "<All keys matched successfully>"
      ]
     },
     "execution_count": 2,
     "metadata": {},
     "output_type": "execute_result"
    }
   ],
   "source": [
    "device = torch.device('cuda' if torch.cuda.is_available() else 'cpu')\n",
    "\n",
    "# Loading segmentation model (UNET)\n",
    "model = Unet2(input_nc = 3, output_nc= 1, ngf = 32, bilinear=True)\n",
    "state_dict = torch.load('segmentation_net.pth', map_location=str(device)) #\n",
    "\n",
    "model.load_state_dict(state_dict)"
   ]
  },
  {
   "cell_type": "code",
   "execution_count": 3,
   "id": "4a24a67a-5f8c-4422-a082-9ce6b04485e2",
   "metadata": {},
   "outputs": [],
   "source": [
    "def list_items(fpath, ext):\n",
    "    tr_sub_dir = [join(fpath, i) for i in os.listdir(fpath)]\n",
    "    return [join(j, i) for j in tr_sub_dir for i in os.listdir(j) if i.endswith(ext)]\n",
    "\n",
    "ds_path = 'Evaluation'\n",
    "subdir = [join(ds_path, f) for f in os.listdir(ds_path) if os.path.isdir(join(ds_path, f))]"
   ]
  },
  {
   "cell_type": "code",
   "execution_count": 4,
   "id": "3df18fb2-21a1-4dcf-9c97-8a6608f426e8",
   "metadata": {},
   "outputs": [
    {
     "data": {
      "image/png": "[encoded data removed]",
      "text/plain": [
       "<Figure size 432x288 with 1 Axes>"
      ]
     },
     "metadata": {
      "needs_background": "light"
     },
     "output_type": "display_data"
    }
   ],
   "source": [
    "file_list = []\n",
    "for f in subdir:\n",
    "    file_list += list_items(f, \".bmp\")\n",
    "\n",
    "for f_name in file_list:\n",
    "    im_bmp = np.array(Image.open(f'{f_name[:-4]}_n.png'))\n",
    "#     im_mask = np.load(f_name[:-3]+'npy')\n",
    "#     im_centroids = np.load(f'{f_name[:-4]}_c.npy')\n",
    "\n",
    "    im_bmp = im_bmp / 255.0\n",
    "#     im_mask = torch.FloatTensor(im_mask)[None, None, :, :]\n",
    "\n",
    "    slider = visualizer_slider(im_bmp, crop_size=512)\n",
    "    slider.make_tiles()\n",
    "    im_lst = torch.FloatTensor(np.array(slider.arr)).permute(0, 3, 1, 2)\n",
    "\n",
    "    for i in range(im_lst.shape[0]):\n",
    "        data = im_lst[i:i + 1]\n",
    "        generated = model(data)\n",
    "        generated = generated[:, 0:1, :, :]\n",
    "        \n",
    "        generated[generated >= .5] = 1\n",
    "        generated[generated < .5] = 0\n",
    "        \n",
    "        if device == 'cuda':\n",
    "            generated = generated.cpu()\n",
    "\n",
    "        slider.arr[i] = generated[0].permute(1, 2, 0).data.numpy()\n",
    "\n",
    "    slider.recover_mask()\n",
    "    \n",
    "    plt.imshow(slider.recvored_mak)\n",
    "    \n",
    "    #Extract segmentation patches for classification\n",
    "    seg_imgs, idx = extract_segmentation(slider.recvored_mak[:,:,0],crop_size=120, j=10, n =7)\n",
    "    print(seg_imgs.shape, len(idx))\n",
    "    \n",
    "    #Classification model\n",
    "\n",
    "    break\n",
    "\n",
    "#     model.fake_B = torch.FloatTensor(slider.recvored_mak)[None, :, :, :].permute(0, 3, 1, 2)\n",
    "#     model.im = torch.FloatTensor(im_bmp)[None, :, :, :].permute(0, 3, 1, 2)\n",
    "#     visuals = model.get_current_visuals()\n",
    "#     save_images(webpage, visuals, f_name.replace('/','_'), aspect_ratio=opt.aspect_ratio, width=opt.display_winsize)\n",
    "\n",
    "#     webpage.save()"
   ]
  },
  {
   "cell_type": "code",
   "execution_count": 18,
   "id": "8c313e9c-0b20-4d20-9608-32724ad24d65",
   "metadata": {},
   "outputs": [
    {
     "name": "stdout",
     "output_type": "stream",
     "text": [
      "(30, 120, 120) 30\n"
     ]
    }
   ],
   "source": []
  },
  {
   "cell_type": "code",
   "execution_count": null,
   "id": "ec278ded-fd95-4ff6-9673-3537febb01ca",
   "metadata": {},
   "outputs": [],
   "source": []
  }
 ],
 "metadata": {
  "kernelspec": {
   "display_name": "Python 3 (ipykernel)",
   "language": "python",
   "name": "python3"
  },
  "language_info": {
   "codemirror_mode": {
    "name": "ipython",
    "version": 3
   },
   "file_extension": ".py",
   "mimetype": "text/x-python",
   "name": "python",
   "nbconvert_exporter": "python",
   "pygments_lexer": "ipython3",
   "version": "3.8.10"
  }
 },
 "nbformat": 4,
 "nbformat_minor": 5
}
